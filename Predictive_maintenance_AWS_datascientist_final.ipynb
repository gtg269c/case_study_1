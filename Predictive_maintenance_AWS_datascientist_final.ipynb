{
 "cells": [
  {
   "cell_type": "markdown",
   "metadata": {},
   "source": [
    "#### Predictive model to anticipate timely maintenance of devices based on daily telemetry "
   ]
  },
  {
   "cell_type": "markdown",
   "metadata": {},
   "source": [
    "- Goals : Maintenance cost reduction through predictive techniques\n",
    "- Data source : http://aws-proserve-data-science.s3.amazonaws.com/predictive_maintenance.csv\n"
   ]
  },
  {
   "cell_type": "markdown",
   "metadata": {},
   "source": [
    "##### Summary of the dataset\n",
    "- Number of total observations: 124494\n",
    "- Unique ids (unique device sensors): Total 1169 (No failure 1063, With failure 106)\n",
    "- Length of observations varies from 1 to 304\n",
    "\n"
   ]
  },
  {
   "cell_type": "markdown",
   "metadata": {},
   "source": [
    "##### Challenges\n",
    "- Some sensors have intermintant measurements which can result in missing values in rolling window\n",
    "- IDs that lack multiple timepoints just proir to failure day"
   ]
  },
  {
   "cell_type": "markdown",
   "metadata": {},
   "source": [
    "##### Improvements\n",
    "- Redo the model with sensors having the last 10 days of consistent measurements\n",
    " * Last period is crucial and may contain important clues about possible events before failure\n",
    "- Select sensors which have atleast 50 days of total reading\n",
    " * Sensors that fail too early may have manufacturing defects.\n",
    " * Failure after long time frame may be a result of wear and tear.\n",
    "- Have more granular timepoint from sensors"
   ]
  },
  {
   "cell_type": "markdown",
   "metadata": {},
   "source": [
    "##### References for background and modeling approaches\n",
    "- https://github.com/aws-samples/amazon-sagemaker-architecting-for-ml/blob/master/Writeups/Predictive_Maintenance.md\n",
    "- https://docs.microsoft.com/en-us/azure/machine-learning/team-data-science-process/cortana-analytics-playbook-predictive-maintenance\n",
    "- https://notebooks.azure.com/Microsoft/projects/PredictiveMaintenance/html/Predictive%20Maintenance%20Modeling%20Guide%20Python%203%20Notebook.ipynb"
   ]
  },
  {
   "cell_type": "code",
   "execution_count": 51,
   "metadata": {},
   "outputs": [],
   "source": [
    "## libraries\n",
    "\n",
    "import os\n",
    "import sys\n",
    "import numpy as np\n",
    "import pandas as pd\n",
    "import seaborn as sns\n",
    "from collections import Counter\n",
    "\n",
    "\n",
    "## plotting\n",
    "import matplotlib.pyplot as plt\n",
    "import pylab as pl\n",
    "import seaborn as sns\n",
    "%matplotlib inline\n",
    "\n",
    "## ML libraries\n",
    "from sklearn.preprocessing import StandardScaler\n",
    "from sklearn.model_selection import train_test_split\n",
    "from sklearn.linear_model import LogisticRegression\n",
    "from sklearn.ensemble import GradientBoostingClassifier\n",
    "from sklearn.metrics import r2_score, roc_curve, auc, f1_score, confusion_matrix\n",
    "\n",
    "## data\n",
    "url = r'http://aws-proserve-data-science.s3.amazonaws.com/predictive_maintenance.csv'\n"
   ]
  },
  {
   "cell_type": "code",
   "execution_count": 90,
   "metadata": {},
   "outputs": [
    {
     "name": "stdout",
     "output_type": "stream",
     "text": [
      "(124494, 12)\n",
      "1169\n"
     ]
    },
    {
     "data": {
      "text/html": [
       "<div>\n",
       "<style scoped>\n",
       "    .dataframe tbody tr th:only-of-type {\n",
       "        vertical-align: middle;\n",
       "    }\n",
       "\n",
       "    .dataframe tbody tr th {\n",
       "        vertical-align: top;\n",
       "    }\n",
       "\n",
       "    .dataframe thead th {\n",
       "        text-align: right;\n",
       "    }\n",
       "</style>\n",
       "<table border=\"1\" class=\"dataframe\">\n",
       "  <thead>\n",
       "    <tr style=\"text-align: right;\">\n",
       "      <th></th>\n",
       "      <th>date</th>\n",
       "      <th>id</th>\n",
       "      <th>failure</th>\n",
       "      <th>metric1</th>\n",
       "      <th>metric2</th>\n",
       "      <th>metric3</th>\n",
       "      <th>metric4</th>\n",
       "      <th>metric5</th>\n",
       "      <th>metric6</th>\n",
       "      <th>metric7</th>\n",
       "      <th>metric8</th>\n",
       "      <th>metric9</th>\n",
       "    </tr>\n",
       "  </thead>\n",
       "  <tbody>\n",
       "    <tr>\n",
       "      <th>0</th>\n",
       "      <td>2015-01-01</td>\n",
       "      <td>S1F01085</td>\n",
       "      <td>0</td>\n",
       "      <td>215630672</td>\n",
       "      <td>56</td>\n",
       "      <td>0</td>\n",
       "      <td>52</td>\n",
       "      <td>6</td>\n",
       "      <td>407438</td>\n",
       "      <td>0</td>\n",
       "      <td>0</td>\n",
       "      <td>7</td>\n",
       "    </tr>\n",
       "    <tr>\n",
       "      <th>1</th>\n",
       "      <td>2015-01-01</td>\n",
       "      <td>S1F0166B</td>\n",
       "      <td>0</td>\n",
       "      <td>61370680</td>\n",
       "      <td>0</td>\n",
       "      <td>3</td>\n",
       "      <td>0</td>\n",
       "      <td>6</td>\n",
       "      <td>403174</td>\n",
       "      <td>0</td>\n",
       "      <td>0</td>\n",
       "      <td>0</td>\n",
       "    </tr>\n",
       "    <tr>\n",
       "      <th>2</th>\n",
       "      <td>2015-01-01</td>\n",
       "      <td>S1F01E6Y</td>\n",
       "      <td>0</td>\n",
       "      <td>173295968</td>\n",
       "      <td>0</td>\n",
       "      <td>0</td>\n",
       "      <td>0</td>\n",
       "      <td>12</td>\n",
       "      <td>237394</td>\n",
       "      <td>0</td>\n",
       "      <td>0</td>\n",
       "      <td>0</td>\n",
       "    </tr>\n",
       "    <tr>\n",
       "      <th>3</th>\n",
       "      <td>2015-01-01</td>\n",
       "      <td>S1F01JE0</td>\n",
       "      <td>0</td>\n",
       "      <td>79694024</td>\n",
       "      <td>0</td>\n",
       "      <td>0</td>\n",
       "      <td>0</td>\n",
       "      <td>6</td>\n",
       "      <td>410186</td>\n",
       "      <td>0</td>\n",
       "      <td>0</td>\n",
       "      <td>0</td>\n",
       "    </tr>\n",
       "    <tr>\n",
       "      <th>4</th>\n",
       "      <td>2015-01-01</td>\n",
       "      <td>S1F01R2B</td>\n",
       "      <td>0</td>\n",
       "      <td>135970480</td>\n",
       "      <td>0</td>\n",
       "      <td>0</td>\n",
       "      <td>0</td>\n",
       "      <td>15</td>\n",
       "      <td>313173</td>\n",
       "      <td>0</td>\n",
       "      <td>0</td>\n",
       "      <td>3</td>\n",
       "    </tr>\n",
       "  </tbody>\n",
       "</table>\n",
       "</div>"
      ],
      "text/plain": [
       "        date        id  failure    metric1  metric2  metric3  metric4  \\\n",
       "0 2015-01-01  S1F01085        0  215630672       56        0       52   \n",
       "1 2015-01-01  S1F0166B        0   61370680        0        3        0   \n",
       "2 2015-01-01  S1F01E6Y        0  173295968        0        0        0   \n",
       "3 2015-01-01  S1F01JE0        0   79694024        0        0        0   \n",
       "4 2015-01-01  S1F01R2B        0  135970480        0        0        0   \n",
       "\n",
       "   metric5  metric6  metric7  metric8  metric9  \n",
       "0        6   407438        0        0        7  \n",
       "1        6   403174        0        0        0  \n",
       "2       12   237394        0        0        0  \n",
       "3        6   410186        0        0        0  \n",
       "4       15   313173        0        0        3  "
      ]
     },
     "execution_count": 90,
     "metadata": {},
     "output_type": "execute_result"
    }
   ],
   "source": [
    "## Read the data and perform QC\n",
    "\n",
    "maintain_df = pd.read_csv(url)\n",
    "\n",
    "\n",
    "## covert data to datetime\n",
    "maintain_df['date'] = pd.to_datetime(maintain_df['date'], format=\"%Y-%m-%d\")\n",
    "#maintain_df = maintain_df.set_index('date')\n",
    "#opsd_daily.head(3)\n",
    "#maintain_df['date'] = maintain_df['date'].values.astype(float)\n",
    "print(maintain_df.shape)\n",
    "print(maintain_df['id'].nunique())\n",
    "maintain_df.head()"
   ]
  },
  {
   "cell_type": "code",
   "execution_count": 3,
   "metadata": {},
   "outputs": [
    {
     "data": {
      "text/html": [
       "<div>\n",
       "<style scoped>\n",
       "    .dataframe tbody tr th:only-of-type {\n",
       "        vertical-align: middle;\n",
       "    }\n",
       "\n",
       "    .dataframe tbody tr th {\n",
       "        vertical-align: top;\n",
       "    }\n",
       "\n",
       "    .dataframe thead th {\n",
       "        text-align: right;\n",
       "    }\n",
       "</style>\n",
       "<table border=\"1\" class=\"dataframe\">\n",
       "  <thead>\n",
       "    <tr style=\"text-align: right;\">\n",
       "      <th></th>\n",
       "      <th>failure</th>\n",
       "      <th>metric1</th>\n",
       "      <th>metric2</th>\n",
       "      <th>metric3</th>\n",
       "      <th>metric4</th>\n",
       "      <th>metric5</th>\n",
       "      <th>metric6</th>\n",
       "      <th>metric7</th>\n",
       "      <th>metric8</th>\n",
       "      <th>metric9</th>\n",
       "    </tr>\n",
       "  </thead>\n",
       "  <tbody>\n",
       "    <tr>\n",
       "      <th>count</th>\n",
       "      <td>124494.000000</td>\n",
       "      <td>1.244940e+05</td>\n",
       "      <td>124494.000000</td>\n",
       "      <td>124494.000000</td>\n",
       "      <td>124494.000000</td>\n",
       "      <td>124494.000000</td>\n",
       "      <td>124494.000000</td>\n",
       "      <td>124494.000000</td>\n",
       "      <td>124494.000000</td>\n",
       "      <td>124494.000000</td>\n",
       "    </tr>\n",
       "    <tr>\n",
       "      <th>mean</th>\n",
       "      <td>0.000851</td>\n",
       "      <td>1.223881e+08</td>\n",
       "      <td>159.484762</td>\n",
       "      <td>9.940455</td>\n",
       "      <td>1.741120</td>\n",
       "      <td>14.222669</td>\n",
       "      <td>260172.657726</td>\n",
       "      <td>0.292528</td>\n",
       "      <td>0.292528</td>\n",
       "      <td>12.451524</td>\n",
       "    </tr>\n",
       "    <tr>\n",
       "      <th>std</th>\n",
       "      <td>0.029167</td>\n",
       "      <td>7.045933e+07</td>\n",
       "      <td>2179.657730</td>\n",
       "      <td>185.747321</td>\n",
       "      <td>22.908507</td>\n",
       "      <td>15.943028</td>\n",
       "      <td>99151.078547</td>\n",
       "      <td>7.436924</td>\n",
       "      <td>7.436924</td>\n",
       "      <td>191.425623</td>\n",
       "    </tr>\n",
       "    <tr>\n",
       "      <th>min</th>\n",
       "      <td>0.000000</td>\n",
       "      <td>0.000000e+00</td>\n",
       "      <td>0.000000</td>\n",
       "      <td>0.000000</td>\n",
       "      <td>0.000000</td>\n",
       "      <td>1.000000</td>\n",
       "      <td>8.000000</td>\n",
       "      <td>0.000000</td>\n",
       "      <td>0.000000</td>\n",
       "      <td>0.000000</td>\n",
       "    </tr>\n",
       "    <tr>\n",
       "      <th>25%</th>\n",
       "      <td>0.000000</td>\n",
       "      <td>6.128476e+07</td>\n",
       "      <td>0.000000</td>\n",
       "      <td>0.000000</td>\n",
       "      <td>0.000000</td>\n",
       "      <td>8.000000</td>\n",
       "      <td>221452.000000</td>\n",
       "      <td>0.000000</td>\n",
       "      <td>0.000000</td>\n",
       "      <td>0.000000</td>\n",
       "    </tr>\n",
       "    <tr>\n",
       "      <th>50%</th>\n",
       "      <td>0.000000</td>\n",
       "      <td>1.227974e+08</td>\n",
       "      <td>0.000000</td>\n",
       "      <td>0.000000</td>\n",
       "      <td>0.000000</td>\n",
       "      <td>10.000000</td>\n",
       "      <td>249799.500000</td>\n",
       "      <td>0.000000</td>\n",
       "      <td>0.000000</td>\n",
       "      <td>0.000000</td>\n",
       "    </tr>\n",
       "    <tr>\n",
       "      <th>75%</th>\n",
       "      <td>0.000000</td>\n",
       "      <td>1.833096e+08</td>\n",
       "      <td>0.000000</td>\n",
       "      <td>0.000000</td>\n",
       "      <td>0.000000</td>\n",
       "      <td>12.000000</td>\n",
       "      <td>310266.000000</td>\n",
       "      <td>0.000000</td>\n",
       "      <td>0.000000</td>\n",
       "      <td>0.000000</td>\n",
       "    </tr>\n",
       "    <tr>\n",
       "      <th>max</th>\n",
       "      <td>1.000000</td>\n",
       "      <td>2.441405e+08</td>\n",
       "      <td>64968.000000</td>\n",
       "      <td>24929.000000</td>\n",
       "      <td>1666.000000</td>\n",
       "      <td>98.000000</td>\n",
       "      <td>689161.000000</td>\n",
       "      <td>832.000000</td>\n",
       "      <td>832.000000</td>\n",
       "      <td>18701.000000</td>\n",
       "    </tr>\n",
       "  </tbody>\n",
       "</table>\n",
       "</div>"
      ],
      "text/plain": [
       "             failure       metric1        metric2        metric3  \\\n",
       "count  124494.000000  1.244940e+05  124494.000000  124494.000000   \n",
       "mean        0.000851  1.223881e+08     159.484762       9.940455   \n",
       "std         0.029167  7.045933e+07    2179.657730     185.747321   \n",
       "min         0.000000  0.000000e+00       0.000000       0.000000   \n",
       "25%         0.000000  6.128476e+07       0.000000       0.000000   \n",
       "50%         0.000000  1.227974e+08       0.000000       0.000000   \n",
       "75%         0.000000  1.833096e+08       0.000000       0.000000   \n",
       "max         1.000000  2.441405e+08   64968.000000   24929.000000   \n",
       "\n",
       "             metric4        metric5        metric6        metric7  \\\n",
       "count  124494.000000  124494.000000  124494.000000  124494.000000   \n",
       "mean        1.741120      14.222669  260172.657726       0.292528   \n",
       "std        22.908507      15.943028   99151.078547       7.436924   \n",
       "min         0.000000       1.000000       8.000000       0.000000   \n",
       "25%         0.000000       8.000000  221452.000000       0.000000   \n",
       "50%         0.000000      10.000000  249799.500000       0.000000   \n",
       "75%         0.000000      12.000000  310266.000000       0.000000   \n",
       "max      1666.000000      98.000000  689161.000000     832.000000   \n",
       "\n",
       "             metric8        metric9  \n",
       "count  124494.000000  124494.000000  \n",
       "mean        0.292528      12.451524  \n",
       "std         7.436924     191.425623  \n",
       "min         0.000000       0.000000  \n",
       "25%         0.000000       0.000000  \n",
       "50%         0.000000       0.000000  \n",
       "75%         0.000000       0.000000  \n",
       "max       832.000000   18701.000000  "
      ]
     },
     "execution_count": 3,
     "metadata": {},
     "output_type": "execute_result"
    }
   ],
   "source": [
    "maintain_df.describe()"
   ]
  },
  {
   "cell_type": "code",
   "execution_count": 4,
   "metadata": {},
   "outputs": [
    {
     "data": {
      "text/plain": [
       "<matplotlib.axes._subplots.AxesSubplot at 0x1c473ca18d0>"
      ]
     },
     "execution_count": 4,
     "metadata": {},
     "output_type": "execute_result"
    },
    {
     "data": {
      "image/png": "[encoded data removed]",
      "text/plain": [
       "<Figure size 432x288 with 1 Axes>"
      ]
     },
     "metadata": {
      "needs_background": "light"
     },
     "output_type": "display_data"
    }
   ],
   "source": [
    "count_id = maintain_df.groupby(['id'])['failure'].count().sort_values(ascending=False)\n",
    "\n",
    "count_id.plot.hist(bins=50)"
   ]
  },
  {
   "cell_type": "markdown",
   "metadata": {},
   "source": [
    "##### Distribution of sample with and without failures (Number of TOTAL OBSERVATIONS)"
   ]
  },
  {
   "cell_type": "code",
   "execution_count": 118,
   "metadata": {},
   "outputs": [
    {
     "name": "stdout",
     "output_type": "stream",
     "text": [
      "             count      nunique\n",
      "count  1169.000000  1169.000000\n",
      "mean    106.496151     1.090676\n",
      "std     102.651601     0.287270\n",
      "min       1.000000     1.000000\n",
      "25%       6.000000     1.000000\n",
      "50%      84.000000     1.000000\n",
      "75%     224.000000     1.000000\n",
      "max     304.000000     2.000000\n"
     ]
    },
    {
     "data": {
      "text/plain": [
       "<matplotlib.legend.Legend at 0x1c409243b00>"
      ]
     },
     "execution_count": 118,
     "metadata": {},
     "output_type": "execute_result"
    },
    {
     "data": {
      "image/png": "[encoded data removed]",
      "text/plain": [
       "<Figure size 432x288 with 1 Axes>"
      ]
     },
     "metadata": {},
     "output_type": "display_data"
    }
   ],
   "source": [
    "count_id = pd.DataFrame(maintain_df.groupby(['id'])['failure'].agg(['count','nunique']).sort_values(by='nunique',ascending=False))\n",
    "\n",
    "print(count_id.describe())\n",
    "sns.distplot(count_id[count_id['nunique']==2]['count'], hist=True, bins=50, rug=False, label='Failure')\n",
    "sns.distplot(count_id[count_id['nunique']==1]['count'], hist=True, bins=50, rug=False, label='No failure')\n",
    "plt.legend()"
   ]
  },
  {
   "cell_type": "code",
   "execution_count": 119,
   "metadata": {},
   "outputs": [
    {
     "name": "stdout",
     "output_type": "stream",
     "text": [
      "nunique\n",
      "1    1063\n",
      "2     106\n",
      "Name: nunique, dtype: int64\n",
      "366\n"
     ]
    }
   ],
   "source": [
    "print(count_id.groupby('nunique')['nunique'].count())\n",
    "count_id.reset_index(inplace=True)\n",
    "\n",
    "## select sensors less than 10 days of measurement\n",
    "sensors_less = count_id[(count_id['count']<=10)]['id'].tolist()\n",
    "print(len(sensors_less))"
   ]
  },
  {
   "cell_type": "code",
   "execution_count": 7,
   "metadata": {},
   "outputs": [
    {
     "name": "stdout",
     "output_type": "stream",
     "text": [
      "(1169, 11)\n",
      "failure\n",
      "0    1068\n",
      "1     101\n",
      "Name: failure, dtype: int64\n"
     ]
    }
   ],
   "source": [
    "#### Last day statistics\n",
    "\n",
    "count_id = pd.DataFrame(maintain_df.groupby(['id'],as_index=False).agg(['last']))\n",
    "count_id.columns = count_id.columns.droplevel(1) \n",
    "print(count_id.shape)\n",
    "count_id.tail()\n",
    "print(count_id.groupby('failure')['failure'].count())"
   ]
  },
  {
   "cell_type": "code",
   "execution_count": 8,
   "metadata": {},
   "outputs": [
    {
     "data": {
      "image/png": "[encoded data removed]",
      "text/plain": [
       "<Figure size 432x288 with 1 Axes>"
      ]
     },
     "metadata": {
      "needs_background": "light"
     },
     "output_type": "display_data"
    }
   ],
   "source": [
    "#### Plot the last day statistics between failure and no failure\n",
    "\n",
    "ax = sns.boxplot(x=\"failure\", y=\"metric9\", data=count_id)\n",
    "#count_id[]"
   ]
  },
  {
   "cell_type": "code",
   "execution_count": 9,
   "metadata": {},
   "outputs": [
    {
     "data": {
      "text/plain": [
       "<matplotlib.axes._subplots.AxesSubplot at 0x1c475ff4b38>"
      ]
     },
     "execution_count": 9,
     "metadata": {},
     "output_type": "execute_result"
    },
    {
     "data": {
      "image/png": "[encoded data removed]",
      "text/plain": [
       "<Figure size 864x432 with 1 Axes>"
      ]
     },
     "metadata": {
      "needs_background": "light"
     },
     "output_type": "display_data"
    }
   ],
   "source": [
    "## plot the raw values for one sensor with failure\n",
    "\n",
    "subset_df = maintain_df[maintain_df['id']=='Z1F1FCH5']\n",
    "subset_df = subset_df.drop(['id','date','metric1', 'metric2','metric8', 'metric6', 'metric7', 'metric9'], axis=1)\n",
    "\n",
    "col_select = subset_df.columns\n",
    "wide_df = subset_df[col_select]\n",
    "\n",
    "# figure size\n",
    "plt.figure(figsize=(12,6))\n",
    "\n",
    "# timeseries plot using lineplot\n",
    "sns.lineplot(data=wide_df)"
   ]
  },
  {
   "cell_type": "code",
   "execution_count": 10,
   "metadata": {},
   "outputs": [
    {
     "data": {
      "text/plain": [
       "<matplotlib.axes._subplots.AxesSubplot at 0x1c4764a8e10>"
      ]
     },
     "execution_count": 10,
     "metadata": {},
     "output_type": "execute_result"
    },
    {
     "data": {
      "image/png": "[encoded data removed]",
      "text/plain": [
       "<Figure size 864x432 with 1 Axes>"
      ]
     },
     "metadata": {
      "needs_background": "light"
     },
     "output_type": "display_data"
    }
   ],
   "source": [
    "## Plot number of failures by date\n",
    "plt.figure(figsize=(12,6))\n",
    "maintain_df.groupby(['date'])['failure'].sum().plot()"
   ]
  },
  {
   "cell_type": "markdown",
   "metadata": {},
   "source": [
    "#### Feature engineering using rolling window"
   ]
  },
  {
   "cell_type": "code",
   "execution_count": 71,
   "metadata": {},
   "outputs": [
    {
     "data": {
      "text/html": [
       "<div>\n",
       "<style scoped>\n",
       "    .dataframe tbody tr th:only-of-type {\n",
       "        vertical-align: middle;\n",
       "    }\n",
       "\n",
       "    .dataframe tbody tr th {\n",
       "        vertical-align: top;\n",
       "    }\n",
       "\n",
       "    .dataframe thead th {\n",
       "        text-align: right;\n",
       "    }\n",
       "</style>\n",
       "<table border=\"1\" class=\"dataframe\">\n",
       "  <thead>\n",
       "    <tr style=\"text-align: right;\">\n",
       "      <th></th>\n",
       "      <th>id</th>\n",
       "      <th>date</th>\n",
       "      <th>metric1_std_5d</th>\n",
       "      <th>metric2_std_5d</th>\n",
       "      <th>metric3_std_5d</th>\n",
       "      <th>metric4_std_5d</th>\n",
       "      <th>metric5_std_5d</th>\n",
       "      <th>metric6_std_5d</th>\n",
       "      <th>metric7_std_5d</th>\n",
       "      <th>metric8_std_5d</th>\n",
       "      <th>metric9_std_5d</th>\n",
       "    </tr>\n",
       "  </thead>\n",
       "  <tbody>\n",
       "    <tr>\n",
       "      <th>4</th>\n",
       "      <td>S1F01085</td>\n",
       "      <td>2015-01-05</td>\n",
       "      <td>7.668639e+07</td>\n",
       "      <td>0.0</td>\n",
       "      <td>0.0</td>\n",
       "      <td>0.0</td>\n",
       "      <td>0.0</td>\n",
       "      <td>302.204897</td>\n",
       "      <td>0.0</td>\n",
       "      <td>0.0</td>\n",
       "      <td>0.0</td>\n",
       "    </tr>\n",
       "    <tr>\n",
       "      <th>5</th>\n",
       "      <td>S1F01085</td>\n",
       "      <td>2015-01-06</td>\n",
       "      <td>5.430312e+07</td>\n",
       "      <td>0.0</td>\n",
       "      <td>0.0</td>\n",
       "      <td>0.0</td>\n",
       "      <td>0.0</td>\n",
       "      <td>855.137884</td>\n",
       "      <td>0.0</td>\n",
       "      <td>0.0</td>\n",
       "      <td>0.0</td>\n",
       "    </tr>\n",
       "    <tr>\n",
       "      <th>433</th>\n",
       "      <td>S1F013BB</td>\n",
       "      <td>2015-05-10</td>\n",
       "      <td>1.023539e+08</td>\n",
       "      <td>0.0</td>\n",
       "      <td>0.0</td>\n",
       "      <td>0.0</td>\n",
       "      <td>0.0</td>\n",
       "      <td>51.788030</td>\n",
       "      <td>0.0</td>\n",
       "      <td>0.0</td>\n",
       "      <td>0.0</td>\n",
       "    </tr>\n",
       "    <tr>\n",
       "      <th>434</th>\n",
       "      <td>S1F013BB</td>\n",
       "      <td>2015-05-11</td>\n",
       "      <td>8.457176e+07</td>\n",
       "      <td>0.0</td>\n",
       "      <td>0.0</td>\n",
       "      <td>0.0</td>\n",
       "      <td>0.0</td>\n",
       "      <td>84.461234</td>\n",
       "      <td>0.0</td>\n",
       "      <td>0.0</td>\n",
       "      <td>0.0</td>\n",
       "    </tr>\n",
       "    <tr>\n",
       "      <th>612</th>\n",
       "      <td>S1F0166B</td>\n",
       "      <td>2015-01-05</td>\n",
       "      <td>7.489762e+07</td>\n",
       "      <td>0.0</td>\n",
       "      <td>0.0</td>\n",
       "      <td>0.0</td>\n",
       "      <td>0.0</td>\n",
       "      <td>285.210799</td>\n",
       "      <td>0.0</td>\n",
       "      <td>0.0</td>\n",
       "      <td>0.0</td>\n",
       "    </tr>\n",
       "  </tbody>\n",
       "</table>\n",
       "</div>"
      ],
      "text/plain": [
       "           id       date  metric1_std_5d  metric2_std_5d  metric3_std_5d  \\\n",
       "4    S1F01085 2015-01-05    7.668639e+07             0.0             0.0   \n",
       "5    S1F01085 2015-01-06    5.430312e+07             0.0             0.0   \n",
       "433  S1F013BB 2015-05-10    1.023539e+08             0.0             0.0   \n",
       "434  S1F013BB 2015-05-11    8.457176e+07             0.0             0.0   \n",
       "612  S1F0166B 2015-01-05    7.489762e+07             0.0             0.0   \n",
       "\n",
       "     metric4_std_5d  metric5_std_5d  metric6_std_5d  metric7_std_5d  \\\n",
       "4               0.0             0.0      302.204897             0.0   \n",
       "5               0.0             0.0      855.137884             0.0   \n",
       "433             0.0             0.0       51.788030             0.0   \n",
       "434             0.0             0.0       84.461234             0.0   \n",
       "612             0.0             0.0      285.210799             0.0   \n",
       "\n",
       "     metric8_std_5d  metric9_std_5d  \n",
       "4               0.0             0.0  \n",
       "5               0.0             0.0  \n",
       "433             0.0             0.0  \n",
       "434             0.0             0.0  \n",
       "612             0.0             0.0  "
      ]
     },
     "execution_count": 71,
     "metadata": {},
     "output_type": "execute_result"
    }
   ],
   "source": [
    "## Calculate rolling mean values for telemetry features\n",
    "temp = []\n",
    "features = ['metric' + str(x) for x in range(1,10)]\n",
    "for col in features:\n",
    "    temp.append(pd.pivot_table(maintain_df,\n",
    "                               index='date',\n",
    "                               columns='id',\n",
    "                               values=col).rolling(window=5).mean().unstack())\n",
    "    \n",
    "maintain_mean_5d = pd.concat(temp, axis=1)\n",
    "maintain_mean_5d.columns = [i + '_mean_5d' for i in features]\n",
    "maintain_mean_5d.reset_index(inplace=True)\n",
    "maintain_mean_5d = maintain_mean_5d.loc[-maintain_mean_5d['metric1_mean_5d'].isnull()]\n",
    "maintain_mean_5d.head()\n",
    "\n",
    "\n",
    "# repeat for standard deviation\n",
    "temp = []\n",
    "features = ['metric' + str(x) for x in range(1,10)]\n",
    "for col in features:\n",
    "    temp.append(pd.pivot_table(maintain_df,\n",
    "                               index='date',\n",
    "                               columns='id',\n",
    "                               values=col).rolling(window=5).std().unstack())\n",
    "\n",
    "maintain_sd_5d = pd.concat(temp, axis=1)\n",
    "maintain_sd_5d.columns = [i + '_std_5d' for i in features]\n",
    "maintain_sd_5d.reset_index(inplace=True)\n",
    "maintain_sd_5d = maintain_sd_5d.loc[-maintain_sd_5d['metric1_std_5d'].isnull()]\n",
    "maintain_sd_5d.head()"
   ]
  },
  {
   "cell_type": "code",
   "execution_count": 72,
   "metadata": {},
   "outputs": [],
   "source": [
    "## Merge mean and std data\n",
    "\n",
    "maintain_mean_std_5d = maintain_mean_5d.merge(maintain_sd_5d, on=['id','date'], how='left')"
   ]
  },
  {
   "cell_type": "markdown",
   "metadata": {},
   "source": [
    "#### Labels for telemetry sensors and window prior to failure"
   ]
  },
  {
   "cell_type": "code",
   "execution_count": 89,
   "metadata": {},
   "outputs": [
    {
     "name": "stderr",
     "output_type": "stream",
     "text": [
      "D:\\ProgramData\\Anaconda3\\envs\\tensorflow\\lib\\site-packages\\ipykernel_launcher.py:4: SettingWithCopyWarning: \n",
      "A value is trying to be set on a copy of a slice from a DataFrame.\n",
      "Try using .loc[row_indexer,col_indexer] = value instead\n",
      "\n",
      "See the caveats in the documentation: http://pandas.pydata.org/pandas-docs/stable/indexing.html#indexing-view-versus-copy\n",
      "  after removing the cwd from sys.path.\n"
     ]
    }
   ],
   "source": [
    "## Engineer the label 'failure'\n",
    "\n",
    "failure_df = maintain_df[['id','date','failure']]\n",
    "failure_df['failure'] = failure_df['failure'].replace({ 0:np.nan})\n",
    "#failure_df.head()"
   ]
  },
  {
   "cell_type": "code",
   "execution_count": 74,
   "metadata": {},
   "outputs": [
    {
     "data": {
      "text/html": [
       "<div>\n",
       "<style scoped>\n",
       "    .dataframe tbody tr th:only-of-type {\n",
       "        vertical-align: middle;\n",
       "    }\n",
       "\n",
       "    .dataframe tbody tr th {\n",
       "        vertical-align: top;\n",
       "    }\n",
       "\n",
       "    .dataframe thead th {\n",
       "        text-align: right;\n",
       "    }\n",
       "</style>\n",
       "<table border=\"1\" class=\"dataframe\">\n",
       "  <thead>\n",
       "    <tr style=\"text-align: right;\">\n",
       "      <th></th>\n",
       "      <th>id</th>\n",
       "      <th>date</th>\n",
       "      <th>metric1_mean_5d</th>\n",
       "      <th>metric2_mean_5d</th>\n",
       "      <th>metric3_mean_5d</th>\n",
       "      <th>metric4_mean_5d</th>\n",
       "      <th>metric5_mean_5d</th>\n",
       "      <th>metric6_mean_5d</th>\n",
       "      <th>metric7_mean_5d</th>\n",
       "      <th>metric8_mean_5d</th>\n",
       "      <th>...</th>\n",
       "      <th>metric1_std_5d</th>\n",
       "      <th>metric2_std_5d</th>\n",
       "      <th>metric3_std_5d</th>\n",
       "      <th>metric4_std_5d</th>\n",
       "      <th>metric5_std_5d</th>\n",
       "      <th>metric6_std_5d</th>\n",
       "      <th>metric7_std_5d</th>\n",
       "      <th>metric8_std_5d</th>\n",
       "      <th>metric9_std_5d</th>\n",
       "      <th>failure</th>\n",
       "    </tr>\n",
       "  </thead>\n",
       "  <tbody>\n",
       "    <tr>\n",
       "      <th>0</th>\n",
       "      <td>S1F01085</td>\n",
       "      <td>2015-01-05</td>\n",
       "      <td>113353115.2</td>\n",
       "      <td>56.0</td>\n",
       "      <td>0.0</td>\n",
       "      <td>52.0</td>\n",
       "      <td>6.0</td>\n",
       "      <td>407573.4</td>\n",
       "      <td>0.0</td>\n",
       "      <td>0.0</td>\n",
       "      <td>...</td>\n",
       "      <td>7.668639e+07</td>\n",
       "      <td>0.0</td>\n",
       "      <td>0.0</td>\n",
       "      <td>0.0</td>\n",
       "      <td>0.0</td>\n",
       "      <td>302.204897</td>\n",
       "      <td>0.0</td>\n",
       "      <td>0.0</td>\n",
       "      <td>0.0</td>\n",
       "      <td>0</td>\n",
       "    </tr>\n",
       "    <tr>\n",
       "      <th>1</th>\n",
       "      <td>S1F01085</td>\n",
       "      <td>2015-01-06</td>\n",
       "      <td>95993406.4</td>\n",
       "      <td>56.0</td>\n",
       "      <td>0.0</td>\n",
       "      <td>52.0</td>\n",
       "      <td>6.0</td>\n",
       "      <td>407966.6</td>\n",
       "      <td>0.0</td>\n",
       "      <td>0.0</td>\n",
       "      <td>...</td>\n",
       "      <td>5.430312e+07</td>\n",
       "      <td>0.0</td>\n",
       "      <td>0.0</td>\n",
       "      <td>0.0</td>\n",
       "      <td>0.0</td>\n",
       "      <td>855.137884</td>\n",
       "      <td>0.0</td>\n",
       "      <td>0.0</td>\n",
       "      <td>0.0</td>\n",
       "      <td>0</td>\n",
       "    </tr>\n",
       "    <tr>\n",
       "      <th>2</th>\n",
       "      <td>S1F013BB</td>\n",
       "      <td>2015-05-10</td>\n",
       "      <td>120718638.4</td>\n",
       "      <td>0.0</td>\n",
       "      <td>0.0</td>\n",
       "      <td>0.0</td>\n",
       "      <td>5.0</td>\n",
       "      <td>688993.0</td>\n",
       "      <td>0.0</td>\n",
       "      <td>0.0</td>\n",
       "      <td>...</td>\n",
       "      <td>1.023539e+08</td>\n",
       "      <td>0.0</td>\n",
       "      <td>0.0</td>\n",
       "      <td>0.0</td>\n",
       "      <td>0.0</td>\n",
       "      <td>51.788030</td>\n",
       "      <td>0.0</td>\n",
       "      <td>0.0</td>\n",
       "      <td>0.0</td>\n",
       "      <td>0</td>\n",
       "    </tr>\n",
       "    <tr>\n",
       "      <th>3</th>\n",
       "      <td>S1F013BB</td>\n",
       "      <td>2015-05-11</td>\n",
       "      <td>140947182.4</td>\n",
       "      <td>0.0</td>\n",
       "      <td>0.0</td>\n",
       "      <td>0.0</td>\n",
       "      <td>5.0</td>\n",
       "      <td>689034.8</td>\n",
       "      <td>0.0</td>\n",
       "      <td>0.0</td>\n",
       "      <td>...</td>\n",
       "      <td>8.457176e+07</td>\n",
       "      <td>0.0</td>\n",
       "      <td>0.0</td>\n",
       "      <td>0.0</td>\n",
       "      <td>0.0</td>\n",
       "      <td>84.461234</td>\n",
       "      <td>0.0</td>\n",
       "      <td>0.0</td>\n",
       "      <td>0.0</td>\n",
       "      <td>0</td>\n",
       "    </tr>\n",
       "    <tr>\n",
       "      <th>4</th>\n",
       "      <td>S1F0166B</td>\n",
       "      <td>2015-01-05</td>\n",
       "      <td>127506627.2</td>\n",
       "      <td>0.0</td>\n",
       "      <td>3.0</td>\n",
       "      <td>0.0</td>\n",
       "      <td>6.0</td>\n",
       "      <td>403301.8</td>\n",
       "      <td>0.0</td>\n",
       "      <td>0.0</td>\n",
       "      <td>...</td>\n",
       "      <td>7.489762e+07</td>\n",
       "      <td>0.0</td>\n",
       "      <td>0.0</td>\n",
       "      <td>0.0</td>\n",
       "      <td>0.0</td>\n",
       "      <td>285.210799</td>\n",
       "      <td>0.0</td>\n",
       "      <td>0.0</td>\n",
       "      <td>0.0</td>\n",
       "      <td>0</td>\n",
       "    </tr>\n",
       "  </tbody>\n",
       "</table>\n",
       "<p>5 rows × 21 columns</p>\n",
       "</div>"
      ],
      "text/plain": [
       "         id       date  metric1_mean_5d  metric2_mean_5d  metric3_mean_5d  \\\n",
       "0  S1F01085 2015-01-05      113353115.2             56.0              0.0   \n",
       "1  S1F01085 2015-01-06       95993406.4             56.0              0.0   \n",
       "2  S1F013BB 2015-05-10      120718638.4              0.0              0.0   \n",
       "3  S1F013BB 2015-05-11      140947182.4              0.0              0.0   \n",
       "4  S1F0166B 2015-01-05      127506627.2              0.0              3.0   \n",
       "\n",
       "   metric4_mean_5d  metric5_mean_5d  metric6_mean_5d  metric7_mean_5d  \\\n",
       "0             52.0              6.0         407573.4              0.0   \n",
       "1             52.0              6.0         407966.6              0.0   \n",
       "2              0.0              5.0         688993.0              0.0   \n",
       "3              0.0              5.0         689034.8              0.0   \n",
       "4              0.0              6.0         403301.8              0.0   \n",
       "\n",
       "   metric8_mean_5d  ...  metric1_std_5d  metric2_std_5d  metric3_std_5d  \\\n",
       "0              0.0  ...    7.668639e+07             0.0             0.0   \n",
       "1              0.0  ...    5.430312e+07             0.0             0.0   \n",
       "2              0.0  ...    1.023539e+08             0.0             0.0   \n",
       "3              0.0  ...    8.457176e+07             0.0             0.0   \n",
       "4              0.0  ...    7.489762e+07             0.0             0.0   \n",
       "\n",
       "   metric4_std_5d  metric5_std_5d  metric6_std_5d  metric7_std_5d  \\\n",
       "0             0.0             0.0      302.204897             0.0   \n",
       "1             0.0             0.0      855.137884             0.0   \n",
       "2             0.0             0.0       51.788030             0.0   \n",
       "3             0.0             0.0       84.461234             0.0   \n",
       "4             0.0             0.0      285.210799             0.0   \n",
       "\n",
       "   metric8_std_5d  metric9_std_5d  failure  \n",
       "0             0.0             0.0        0  \n",
       "1             0.0             0.0        0  \n",
       "2             0.0             0.0        0  \n",
       "3             0.0             0.0        0  \n",
       "4             0.0             0.0        0  \n",
       "\n",
       "[5 rows x 21 columns]"
      ]
     },
     "execution_count": 74,
     "metadata": {},
     "output_type": "execute_result"
    }
   ],
   "source": [
    "## Merge rolling mean dataframe with failure information\n",
    "labeled_df = maintain_mean_std_5d.merge(failure_df, on=['id','date'], how='left')\n",
    "\n",
    "## backfill the number of days before failure as '1' and the remaining NaN as '0'\n",
    "labeled_df['failure'] = labeled_df['failure'].fillna(method='bfill', limit=5)\n",
    "labeled_df['failure'] = labeled_df['failure'].fillna(0)\n",
    "labeled_df['failure'] = labeled_df['failure'].astype(int)\n",
    "labeled_df.reset_index(inplace=True,drop=True)\n",
    "labeled_df.head()"
   ]
  },
  {
   "cell_type": "code",
   "execution_count": 35,
   "metadata": {},
   "outputs": [
    {
     "data": {
      "text/html": [
       "<div>\n",
       "<style scoped>\n",
       "    .dataframe tbody tr th:only-of-type {\n",
       "        vertical-align: middle;\n",
       "    }\n",
       "\n",
       "    .dataframe tbody tr th {\n",
       "        vertical-align: top;\n",
       "    }\n",
       "\n",
       "    .dataframe thead th {\n",
       "        text-align: right;\n",
       "    }\n",
       "</style>\n",
       "<table border=\"1\" class=\"dataframe\">\n",
       "  <thead>\n",
       "    <tr style=\"text-align: right;\">\n",
       "      <th></th>\n",
       "      <th>id</th>\n",
       "      <th>date</th>\n",
       "      <th>metric1_mean_5d</th>\n",
       "      <th>metric2_mean_5d</th>\n",
       "      <th>metric3_mean_5d</th>\n",
       "      <th>metric4_mean_5d</th>\n",
       "      <th>metric5_mean_5d</th>\n",
       "      <th>metric6_mean_5d</th>\n",
       "      <th>metric7_mean_5d</th>\n",
       "      <th>metric8_mean_5d</th>\n",
       "      <th>metric9_mean_5d</th>\n",
       "      <th>failure</th>\n",
       "    </tr>\n",
       "  </thead>\n",
       "  <tbody>\n",
       "    <tr>\n",
       "      <th>381</th>\n",
       "      <td>S1F023H2</td>\n",
       "      <td>2015-01-15</td>\n",
       "      <td>178983356.8</td>\n",
       "      <td>0.0</td>\n",
       "      <td>0.0</td>\n",
       "      <td>1.0</td>\n",
       "      <td>19.0</td>\n",
       "      <td>507985.6</td>\n",
       "      <td>16.0</td>\n",
       "      <td>16.0</td>\n",
       "      <td>3.0</td>\n",
       "      <td>0</td>\n",
       "    </tr>\n",
       "    <tr>\n",
       "      <th>382</th>\n",
       "      <td>S1F023H2</td>\n",
       "      <td>2015-01-16</td>\n",
       "      <td>200855545.6</td>\n",
       "      <td>0.0</td>\n",
       "      <td>0.0</td>\n",
       "      <td>1.0</td>\n",
       "      <td>19.0</td>\n",
       "      <td>509241.4</td>\n",
       "      <td>16.0</td>\n",
       "      <td>16.0</td>\n",
       "      <td>3.0</td>\n",
       "      <td>1</td>\n",
       "    </tr>\n",
       "    <tr>\n",
       "      <th>383</th>\n",
       "      <td>S1F023H2</td>\n",
       "      <td>2015-01-17</td>\n",
       "      <td>173656929.6</td>\n",
       "      <td>0.0</td>\n",
       "      <td>0.0</td>\n",
       "      <td>1.0</td>\n",
       "      <td>19.0</td>\n",
       "      <td>510526.6</td>\n",
       "      <td>16.0</td>\n",
       "      <td>16.0</td>\n",
       "      <td>3.0</td>\n",
       "      <td>1</td>\n",
       "    </tr>\n",
       "    <tr>\n",
       "      <th>384</th>\n",
       "      <td>S1F023H2</td>\n",
       "      <td>2015-01-18</td>\n",
       "      <td>146419452.8</td>\n",
       "      <td>0.0</td>\n",
       "      <td>0.0</td>\n",
       "      <td>1.0</td>\n",
       "      <td>19.0</td>\n",
       "      <td>511676.8</td>\n",
       "      <td>16.0</td>\n",
       "      <td>16.0</td>\n",
       "      <td>3.0</td>\n",
       "      <td>1</td>\n",
       "    </tr>\n",
       "    <tr>\n",
       "      <th>385</th>\n",
       "      <td>S1F023H2</td>\n",
       "      <td>2015-01-19</td>\n",
       "      <td>118570489.6</td>\n",
       "      <td>0.0</td>\n",
       "      <td>0.0</td>\n",
       "      <td>1.0</td>\n",
       "      <td>19.0</td>\n",
       "      <td>512759.0</td>\n",
       "      <td>16.0</td>\n",
       "      <td>16.0</td>\n",
       "      <td>3.0</td>\n",
       "      <td>1</td>\n",
       "    </tr>\n",
       "  </tbody>\n",
       "</table>\n",
       "</div>"
      ],
      "text/plain": [
       "           id       date  metric1_mean_5d  metric2_mean_5d  metric3_mean_5d  \\\n",
       "381  S1F023H2 2015-01-15      178983356.8              0.0              0.0   \n",
       "382  S1F023H2 2015-01-16      200855545.6              0.0              0.0   \n",
       "383  S1F023H2 2015-01-17      173656929.6              0.0              0.0   \n",
       "384  S1F023H2 2015-01-18      146419452.8              0.0              0.0   \n",
       "385  S1F023H2 2015-01-19      118570489.6              0.0              0.0   \n",
       "\n",
       "     metric4_mean_5d  metric5_mean_5d  metric6_mean_5d  metric7_mean_5d  \\\n",
       "381              1.0             19.0         507985.6             16.0   \n",
       "382              1.0             19.0         509241.4             16.0   \n",
       "383              1.0             19.0         510526.6             16.0   \n",
       "384              1.0             19.0         511676.8             16.0   \n",
       "385              1.0             19.0         512759.0             16.0   \n",
       "\n",
       "     metric8_mean_5d  metric9_mean_5d  failure  \n",
       "381             16.0              3.0        0  \n",
       "382             16.0              3.0        1  \n",
       "383             16.0              3.0        1  \n",
       "384             16.0              3.0        1  \n",
       "385             16.0              3.0        1  "
      ]
     },
     "execution_count": 35,
     "metadata": {},
     "output_type": "execute_result"
    }
   ],
   "source": [
    "## Check the backfill of the last 3 features as failures\n",
    "labeled_df[labeled_df['id']=='S1F023H2'].tail()"
   ]
  },
  {
   "cell_type": "code",
   "execution_count": 36,
   "metadata": {},
   "outputs": [
    {
     "name": "stdout",
     "output_type": "stream",
     "text": [
      "X_train:  (83443, 9)\n",
      "y_train:  (83443,)\n",
      "X_test:  (35762, 9)\n",
      "y_test:  (35762,)\n"
     ]
    }
   ],
   "source": [
    "##### Modeling of the failure \n",
    "\n",
    "# column names\n",
    "feature_col = [col for col in labeled_df.columns if 'metric' in col]\n",
    "label_col = ['failure']\n",
    "\n",
    "test_sample_size=0.3\n",
    "\n",
    "# split train and test data\n",
    "X_train, X_test, y_train, y_test = train_test_split(labeled_df[feature_col], labeled_df[label_col], test_size=test_sample_size, random_state=42)\n",
    "\n",
    "y_train = np.ravel(y_train,order='C')\n",
    "y_test = np.ravel(y_test,order='C')\n",
    "\n",
    "print(\"X_train: \",X_train.shape)\n",
    "print(\"y_train: \",y_train.shape)\n",
    "print(\"X_test: \",X_test.shape)\n",
    "print(\"y_test: \",y_test.shape)"
   ]
  },
  {
   "cell_type": "code",
   "execution_count": 37,
   "metadata": {},
   "outputs": [
    {
     "name": "stdout",
     "output_type": "stream",
     "text": [
      "logReg score:  0.9966165203288406\n",
      "F1 score:  0.4991526966654062\n"
     ]
    },
    {
     "name": "stderr",
     "output_type": "stream",
     "text": [
      "D:\\ProgramData\\Anaconda3\\envs\\tensorflow\\lib\\site-packages\\sklearn\\metrics\\classification.py:1437: UndefinedMetricWarning: F-score is ill-defined and being set to 0.0 in labels with no predicted samples.\n",
      "  'precision', 'predicted', average, warn_for)\n"
     ]
    },
    {
     "data": {
      "text/plain": [
       "array([[35641,     0],\n",
       "       [  121,     0]], dtype=int64)"
      ]
     },
     "execution_count": 37,
     "metadata": {},
     "output_type": "execute_result"
    }
   ],
   "source": [
    "### Logistic regression model and prediction\n",
    "\n",
    "logReg = LogisticRegression(solver = 'lbfgs', max_iter=500)\n",
    "model = logReg.fit(X_train, y_train)\n",
    "y_pred = logReg.predict(X_test)\n",
    "\n",
    "print(\"logReg score: \",logReg.score(X_test, y_test))\n",
    "\n",
    "print(\"F1 score: \",f1_score(y_test, y_pred, average='macro'))\n",
    "\n",
    "cnf_matrix = confusion_matrix(y_test, y_pred)\n",
    "cnf_matrix"
   ]
  },
  {
   "cell_type": "code",
   "execution_count": 17,
   "metadata": {},
   "outputs": [
    {
     "data": {
      "text/plain": [
       "{1}"
      ]
     },
     "execution_count": 17,
     "metadata": {},
     "output_type": "execute_result"
    }
   ],
   "source": [
    "set(y_test) - set(y_pred)"
   ]
  },
  {
   "cell_type": "code",
   "execution_count": 20,
   "metadata": {},
   "outputs": [
    {
     "name": "stdout",
     "output_type": "stream",
     "text": [
      "[0 0 0 0 0 0 0 0 0 0]\n",
      "[0 0 0 0 0 0 0 0 0 0]\n"
     ]
    }
   ],
   "source": [
    "print(y_train[:10])\n",
    "print(y_test[:10])"
   ]
  },
  {
   "cell_type": "code",
   "execution_count": 23,
   "metadata": {},
   "outputs": [],
   "source": [
    "def count_list(list_1):\n",
    "    \"\"\"\n",
    "    Count unique elements in list\n",
    "    \"\"\"\n",
    "    print(Counter(list_1).keys()) # equals to list(set(words))\n",
    "    print(Counter(list_1).values()) # counts the elements' frequency\n",
    "    "
   ]
  },
  {
   "cell_type": "code",
   "execution_count": 24,
   "metadata": {},
   "outputs": [
    {
     "name": "stdout",
     "output_type": "stream",
     "text": [
      "dict_keys([0, 1])\n",
      "dict_values([35670, 92])\n",
      "dict_keys([0])\n",
      "dict_values([35762])\n"
     ]
    }
   ],
   "source": [
    "## y_train count\n",
    "count_list(y_test)\n",
    "\n",
    "## y_pred count\n",
    "count_list(y_pred)"
   ]
  },
  {
   "cell_type": "code",
   "execution_count": null,
   "metadata": {},
   "outputs": [],
   "source": []
  },
  {
   "cell_type": "code",
   "execution_count": 73,
   "metadata": {},
   "outputs": [
    {
     "name": "stdout",
     "output_type": "stream",
     "text": [
      "Learning rate:  0.05\n",
      "Accuracy score (training): 0.998\n",
      "Accuracy score (validation): 0.998\n",
      "\n",
      "Learning rate:  0.1\n",
      "Accuracy score (training): 0.997\n",
      "Accuracy score (validation): 0.997\n",
      "\n",
      "Learning rate:  0.25\n",
      "Accuracy score (training): 0.996\n",
      "Accuracy score (validation): 0.996\n",
      "\n",
      "Learning rate:  0.5\n",
      "Accuracy score (training): 0.996\n",
      "Accuracy score (validation): 0.996\n",
      "\n",
      "Learning rate:  0.75\n",
      "Accuracy score (training): 0.009\n",
      "Accuracy score (validation): 0.009\n",
      "\n",
      "Learning rate:  1\n",
      "Accuracy score (training): 0.990\n",
      "Accuracy score (validation): 0.989\n",
      "\n"
     ]
    }
   ],
   "source": [
    "## Selection of learning rate for gradient boosting classifiers\n",
    "\n",
    "learning_rates = [0.05, 0.1, 0.25, 0.5, 0.75, 1]\n",
    "for learn_rate in learning_rates:\n",
    "    gb = GradientBoostingClassifier(n_estimators=20, learning_rate = learn_rate, max_features=2, max_depth = 2, random_state = 0)\n",
    "    gb.fit(X_train, y_train)\n",
    "    print(\"Learning rate: \", learn_rate)\n",
    "    print(\"Accuracy score (training): {0:.3f}\".format(gb.score(X_train, y_train)))\n",
    "    print(\"Accuracy score (validation): {0:.3f}\".format(gb.score(X_test, y_test)))\n",
    "    print()"
   ]
  },
  {
   "cell_type": "code",
   "execution_count": 38,
   "metadata": {},
   "outputs": [
    {
     "name": "stdout",
     "output_type": "stream",
     "text": [
      "GB score:  0.9965885576869302\n",
      "F1 score:  0.6485703469218438\n"
     ]
    },
    {
     "data": {
      "text/plain": [
       "array([[35641,     0],\n",
       "       [  121,     0]], dtype=int64)"
      ]
     },
     "execution_count": 38,
     "metadata": {},
     "output_type": "execute_result"
    }
   ],
   "source": [
    "## gradient boosting classifiers\n",
    "\n",
    "gb = GradientBoostingClassifier(n_estimators=20, learning_rate = 0.55, max_features=2, max_depth = 5, random_state = 0)\n",
    "gb.fit(X_train, y_train)\n",
    "predictions = gb.predict(X_test)\n",
    "\n",
    "\n",
    "print(\"GB score: \",gb.score(X_test, y_test))\n",
    "\n",
    "print(\"F1 score: \",f1_score(y_test, predictions, average='macro'))\n",
    "\n",
    "cnf_matrix = confusion_matrix(y_test, y_pred)\n",
    "cnf_matrix"
   ]
  },
  {
   "cell_type": "code",
   "execution_count": null,
   "metadata": {},
   "outputs": [],
   "source": []
  },
  {
   "cell_type": "code",
   "execution_count": null,
   "metadata": {},
   "outputs": [],
   "source": []
  },
  {
   "cell_type": "code",
   "execution_count": 80,
   "metadata": {},
   "outputs": [
    {
     "data": {
      "text/html": [
       "<div>\n",
       "<style scoped>\n",
       "    .dataframe tbody tr th:only-of-type {\n",
       "        vertical-align: middle;\n",
       "    }\n",
       "\n",
       "    .dataframe tbody tr th {\n",
       "        vertical-align: top;\n",
       "    }\n",
       "\n",
       "    .dataframe thead th {\n",
       "        text-align: right;\n",
       "    }\n",
       "</style>\n",
       "<table border=\"1\" class=\"dataframe\">\n",
       "  <thead>\n",
       "    <tr style=\"text-align: right;\">\n",
       "      <th></th>\n",
       "      <th>id</th>\n",
       "      <th>date</th>\n",
       "      <th>metric1_mean_5d</th>\n",
       "      <th>metric2_mean_5d</th>\n",
       "      <th>metric3_mean_5d</th>\n",
       "      <th>metric4_mean_5d</th>\n",
       "      <th>metric5_mean_5d</th>\n",
       "      <th>metric6_mean_5d</th>\n",
       "      <th>metric7_mean_5d</th>\n",
       "      <th>metric8_mean_5d</th>\n",
       "      <th>...</th>\n",
       "      <th>metric1_std_5d</th>\n",
       "      <th>metric2_std_5d</th>\n",
       "      <th>metric3_std_5d</th>\n",
       "      <th>metric4_std_5d</th>\n",
       "      <th>metric5_std_5d</th>\n",
       "      <th>metric6_std_5d</th>\n",
       "      <th>metric7_std_5d</th>\n",
       "      <th>metric8_std_5d</th>\n",
       "      <th>metric9_std_5d</th>\n",
       "      <th>failure</th>\n",
       "    </tr>\n",
       "  </thead>\n",
       "  <tbody>\n",
       "    <tr>\n",
       "      <th>0</th>\n",
       "      <td>S1F01085</td>\n",
       "      <td>2015-01-05</td>\n",
       "      <td>113353115.2</td>\n",
       "      <td>56.0</td>\n",
       "      <td>0.0</td>\n",
       "      <td>52.0</td>\n",
       "      <td>6.0</td>\n",
       "      <td>407573.4</td>\n",
       "      <td>0.0</td>\n",
       "      <td>0.0</td>\n",
       "      <td>...</td>\n",
       "      <td>7.668639e+07</td>\n",
       "      <td>0.0</td>\n",
       "      <td>0.0</td>\n",
       "      <td>0.0</td>\n",
       "      <td>0.0</td>\n",
       "      <td>302.204897</td>\n",
       "      <td>0.0</td>\n",
       "      <td>0.0</td>\n",
       "      <td>0.0</td>\n",
       "      <td>0</td>\n",
       "    </tr>\n",
       "    <tr>\n",
       "      <th>1</th>\n",
       "      <td>S1F01085</td>\n",
       "      <td>2015-01-06</td>\n",
       "      <td>95993406.4</td>\n",
       "      <td>56.0</td>\n",
       "      <td>0.0</td>\n",
       "      <td>52.0</td>\n",
       "      <td>6.0</td>\n",
       "      <td>407966.6</td>\n",
       "      <td>0.0</td>\n",
       "      <td>0.0</td>\n",
       "      <td>...</td>\n",
       "      <td>5.430312e+07</td>\n",
       "      <td>0.0</td>\n",
       "      <td>0.0</td>\n",
       "      <td>0.0</td>\n",
       "      <td>0.0</td>\n",
       "      <td>855.137884</td>\n",
       "      <td>0.0</td>\n",
       "      <td>0.0</td>\n",
       "      <td>0.0</td>\n",
       "      <td>0</td>\n",
       "    </tr>\n",
       "    <tr>\n",
       "      <th>2</th>\n",
       "      <td>S1F013BB</td>\n",
       "      <td>2015-05-10</td>\n",
       "      <td>120718638.4</td>\n",
       "      <td>0.0</td>\n",
       "      <td>0.0</td>\n",
       "      <td>0.0</td>\n",
       "      <td>5.0</td>\n",
       "      <td>688993.0</td>\n",
       "      <td>0.0</td>\n",
       "      <td>0.0</td>\n",
       "      <td>...</td>\n",
       "      <td>1.023539e+08</td>\n",
       "      <td>0.0</td>\n",
       "      <td>0.0</td>\n",
       "      <td>0.0</td>\n",
       "      <td>0.0</td>\n",
       "      <td>51.788030</td>\n",
       "      <td>0.0</td>\n",
       "      <td>0.0</td>\n",
       "      <td>0.0</td>\n",
       "      <td>0</td>\n",
       "    </tr>\n",
       "    <tr>\n",
       "      <th>3</th>\n",
       "      <td>S1F013BB</td>\n",
       "      <td>2015-05-11</td>\n",
       "      <td>140947182.4</td>\n",
       "      <td>0.0</td>\n",
       "      <td>0.0</td>\n",
       "      <td>0.0</td>\n",
       "      <td>5.0</td>\n",
       "      <td>689034.8</td>\n",
       "      <td>0.0</td>\n",
       "      <td>0.0</td>\n",
       "      <td>...</td>\n",
       "      <td>8.457176e+07</td>\n",
       "      <td>0.0</td>\n",
       "      <td>0.0</td>\n",
       "      <td>0.0</td>\n",
       "      <td>0.0</td>\n",
       "      <td>84.461234</td>\n",
       "      <td>0.0</td>\n",
       "      <td>0.0</td>\n",
       "      <td>0.0</td>\n",
       "      <td>0</td>\n",
       "    </tr>\n",
       "    <tr>\n",
       "      <th>4</th>\n",
       "      <td>S1F0166B</td>\n",
       "      <td>2015-01-05</td>\n",
       "      <td>127506627.2</td>\n",
       "      <td>0.0</td>\n",
       "      <td>3.0</td>\n",
       "      <td>0.0</td>\n",
       "      <td>6.0</td>\n",
       "      <td>403301.8</td>\n",
       "      <td>0.0</td>\n",
       "      <td>0.0</td>\n",
       "      <td>...</td>\n",
       "      <td>7.489762e+07</td>\n",
       "      <td>0.0</td>\n",
       "      <td>0.0</td>\n",
       "      <td>0.0</td>\n",
       "      <td>0.0</td>\n",
       "      <td>285.210799</td>\n",
       "      <td>0.0</td>\n",
       "      <td>0.0</td>\n",
       "      <td>0.0</td>\n",
       "      <td>0</td>\n",
       "    </tr>\n",
       "  </tbody>\n",
       "</table>\n",
       "<p>5 rows × 21 columns</p>\n",
       "</div>"
      ],
      "text/plain": [
       "         id       date  metric1_mean_5d  metric2_mean_5d  metric3_mean_5d  \\\n",
       "0  S1F01085 2015-01-05      113353115.2             56.0              0.0   \n",
       "1  S1F01085 2015-01-06       95993406.4             56.0              0.0   \n",
       "2  S1F013BB 2015-05-10      120718638.4              0.0              0.0   \n",
       "3  S1F013BB 2015-05-11      140947182.4              0.0              0.0   \n",
       "4  S1F0166B 2015-01-05      127506627.2              0.0              3.0   \n",
       "\n",
       "   metric4_mean_5d  metric5_mean_5d  metric6_mean_5d  metric7_mean_5d  \\\n",
       "0             52.0              6.0         407573.4              0.0   \n",
       "1             52.0              6.0         407966.6              0.0   \n",
       "2              0.0              5.0         688993.0              0.0   \n",
       "3              0.0              5.0         689034.8              0.0   \n",
       "4              0.0              6.0         403301.8              0.0   \n",
       "\n",
       "   metric8_mean_5d  ...  metric1_std_5d  metric2_std_5d  metric3_std_5d  \\\n",
       "0              0.0  ...    7.668639e+07             0.0             0.0   \n",
       "1              0.0  ...    5.430312e+07             0.0             0.0   \n",
       "2              0.0  ...    1.023539e+08             0.0             0.0   \n",
       "3              0.0  ...    8.457176e+07             0.0             0.0   \n",
       "4              0.0  ...    7.489762e+07             0.0             0.0   \n",
       "\n",
       "   metric4_std_5d  metric5_std_5d  metric6_std_5d  metric7_std_5d  \\\n",
       "0             0.0             0.0      302.204897             0.0   \n",
       "1             0.0             0.0      855.137884             0.0   \n",
       "2             0.0             0.0       51.788030             0.0   \n",
       "3             0.0             0.0       84.461234             0.0   \n",
       "4             0.0             0.0      285.210799             0.0   \n",
       "\n",
       "   metric8_std_5d  metric9_std_5d  failure  \n",
       "0             0.0             0.0        0  \n",
       "1             0.0             0.0        0  \n",
       "2             0.0             0.0        0  \n",
       "3             0.0             0.0        0  \n",
       "4             0.0             0.0        0  \n",
       "\n",
       "[5 rows x 21 columns]"
      ]
     },
     "execution_count": 80,
     "metadata": {},
     "output_type": "execute_result"
    }
   ],
   "source": [
    "## Merge rolling mean dataframe with failure information\n",
    "labeled_df = maintain_mean_std_5d.merge(failure_df, on=['id','date'], how='left')\n",
    "\n",
    "## backfill the number of days before failure as '1' and the remaining NaN as '0'\n",
    "labeled_df['failure'] = labeled_df['failure'].fillna(method='bfill', limit=2)\n",
    "labeled_df['failure'] = labeled_df['failure'].fillna(0)\n",
    "labeled_df['failure'] = labeled_df['failure'].astype(int)\n",
    "labeled_df.reset_index(inplace=True,drop=True)\n",
    "labeled_df.head()"
   ]
  },
  {
   "cell_type": "code",
   "execution_count": 81,
   "metadata": {},
   "outputs": [
    {
     "name": "stdout",
     "output_type": "stream",
     "text": [
      "X_train:  (83443, 18)\n",
      "y_train:  (83443,)\n",
      "X_test:  (35762, 18)\n",
      "y_test:  (35762,)\n"
     ]
    }
   ],
   "source": [
    "## Standardization of the values for prediction\n",
    "\n",
    "\n",
    "#X_train, X_test, y_train, y_test = train_test_split(StandardScaler().fit_transform(X), y, test_size=0.33, random_state=42)\n",
    "# column names\n",
    "feature_col = [col for col in labeled_df.columns if 'metric' in col]\n",
    "label_col = ['failure']\n",
    "\n",
    "test_sample_size=0.3\n",
    "\n",
    "# split train and test data\n",
    "X_train, X_test, y_train, y_test = train_test_split(StandardScaler().fit_transform(labeled_df[feature_col]), labeled_df[label_col], test_size=test_sample_size, random_state=42)\n",
    "\n",
    "y_train = np.ravel(y_train,order='C')\n",
    "y_test = np.ravel(y_test,order='C')\n",
    "\n",
    "print(\"X_train: \",X_train.shape)\n",
    "print(\"y_train: \",y_train.shape)\n",
    "print(\"X_test: \",X_test.shape)\n",
    "print(\"y_test: \",y_test.shape)"
   ]
  },
  {
   "cell_type": "code",
   "execution_count": 82,
   "metadata": {},
   "outputs": [
    {
     "name": "stdout",
     "output_type": "stream",
     "text": [
      "logReg score:  0.9973715116604217\n",
      "F1 score:  0.5474188441074468\n"
     ]
    },
    {
     "data": {
      "text/plain": [
       "array([[35663,     7],\n",
       "       [   87,     5]], dtype=int64)"
      ]
     },
     "execution_count": 82,
     "metadata": {},
     "output_type": "execute_result"
    }
   ],
   "source": [
    "### Logistic regression model and prediction\n",
    "\n",
    "logReg = LogisticRegression(solver = 'lbfgs', max_iter=500)\n",
    "model = logReg.fit(X_train, y_train)\n",
    "y_pred = logReg.predict(X_test)\n",
    "\n",
    "print(\"logReg score: \",logReg.score(X_test, y_test))\n",
    "\n",
    "print(\"F1 score: \",f1_score(y_test, y_pred, average='macro'))\n",
    "\n",
    "cnf_matrix = confusion_matrix(y_test, y_pred)\n",
    "cnf_matrix"
   ]
  },
  {
   "cell_type": "code",
   "execution_count": 87,
   "metadata": {},
   "outputs": [
    {
     "name": "stdout",
     "output_type": "stream",
     "text": [
      "GB score:  0.994239695766456\n",
      "F1 score:  0.6084030736781229\n"
     ]
    },
    {
     "data": {
      "text/plain": [
       "array([[35663,     7],\n",
       "       [   87,     5]], dtype=int64)"
      ]
     },
     "execution_count": 87,
     "metadata": {},
     "output_type": "execute_result"
    }
   ],
   "source": [
    "## gradient boosting classifiers\n",
    "\n",
    "gb = GradientBoostingClassifier(n_estimators=20, learning_rate = 0.50, max_features=2, max_depth = 5, random_state = 0)\n",
    "gb_model = gb.fit(X_train, y_train)\n",
    "predictions = gb.predict(X_test)\n",
    "\n",
    "\n",
    "print(\"GB score: \",gb.score(X_test, y_test))\n",
    "\n",
    "print(\"F1 score: \",f1_score(y_test, predictions, average='macro'))\n",
    "\n",
    "cnf_matrix = confusion_matrix(y_test, y_pred)\n",
    "cnf_matrix"
   ]
  },
  {
   "cell_type": "code",
   "execution_count": 88,
   "metadata": {},
   "outputs": [
    {
     "data": {
      "text/plain": [
       "Text(0, 0.5, 'Importance')"
      ]
     },
     "execution_count": 88,
     "metadata": {},
     "output_type": "execute_result"
    },
    {
     "data": {
      "image/png": "[encoded data removed]",
      "text/plain": [
       "<Figure size 720x432 with 1 Axes>"
      ]
     },
     "metadata": {},
     "output_type": "display_data"
    }
   ],
   "source": [
    "### Feature importance\n",
    "\n",
    "import operator\n",
    "\n",
    "sns.set_style(\"darkgrid\")\n",
    "plt.figure(figsize=(10, 6))\n",
    "labels, importances = zip(*sorted(zip(feature_col, gb_model.feature_importances_),\n",
    "                                  reverse=True,\n",
    "                                  key=operator.itemgetter(1)))\n",
    "plt.xticks(range(len(labels)), labels)\n",
    "_, labels = plt.xticks()\n",
    "plt.setp(labels, rotation=90)\n",
    "plt.bar(range(len(importances)), importances)\n",
    "plt.ylabel('Importance')"
   ]
  },
  {
   "cell_type": "markdown",
   "metadata": {},
   "source": [
    "#### Build predictive model of maintenance for sensors with more than 10 days of data"
   ]
  },
  {
   "cell_type": "code",
   "execution_count": 120,
   "metadata": {},
   "outputs": [
    {
     "name": "stdout",
     "output_type": "stream",
     "text": [
      "labeled data:  (119205, 21)\n",
      "labeled data (without short sensors):  (118540, 21)\n",
      "X_train:  (82978, 18)\n",
      "y_train:  (82978,)\n",
      "X_test:  (35562, 18)\n",
      "y_test:  (35562,)\n"
     ]
    }
   ],
   "source": [
    "## Standardization of the values for prediction\n",
    "print(\"labeled data: \",labeled_df.shape)\n",
    "labeled_df = labeled_df[-labeled_df['id'].isin(sensors_less)]\n",
    "print(\"labeled data (without short sensors): \",labeled_df.shape)\n",
    "\n",
    "#X_train, X_test, y_train, y_test = train_test_split(StandardScaler().fit_transform(X), y, test_size=0.33, random_state=42)\n",
    "# column names\n",
    "feature_col = [col for col in labeled_df.columns if 'metric' in col]\n",
    "label_col = ['failure']\n",
    "\n",
    "test_sample_size=0.3\n",
    "\n",
    "# split train and test data\n",
    "X_train, X_test, y_train, y_test = train_test_split(StandardScaler().fit_transform(labeled_df[feature_col]), labeled_df[label_col], test_size=test_sample_size, random_state=42)\n",
    "\n",
    "y_train = np.ravel(y_train,order='C')\n",
    "y_test = np.ravel(y_test,order='C')\n",
    "\n",
    "print(\"X_train: \",X_train.shape)\n",
    "print(\"y_train: \",y_train.shape)\n",
    "print(\"X_test: \",X_test.shape)\n",
    "print(\"y_test: \",y_test.shape)"
   ]
  },
  {
   "cell_type": "code",
   "execution_count": 123,
   "metadata": {},
   "outputs": [
    {
     "name": "stdout",
     "output_type": "stream",
     "text": [
      "logReg score:  0.9974410888026545\n",
      "F1 score:  0.5488643129550976\n"
     ]
    },
    {
     "data": {
      "text/plain": [
       "array([[35466,     4],\n",
       "       [   87,     5]], dtype=int64)"
      ]
     },
     "execution_count": 123,
     "metadata": {},
     "output_type": "execute_result"
    }
   ],
   "source": [
    "### Logistic regression model and prediction\n",
    "\n",
    "logReg = LogisticRegression(solver = 'lbfgs', max_iter=500)\n",
    "model = logReg.fit(X_train, y_train)\n",
    "y_pred = logReg.predict(X_test)\n",
    "\n",
    "print(\"logReg score: \",logReg.score(X_test, y_test))\n",
    "\n",
    "print(\"F1 score: \",f1_score(y_test, y_pred, average='macro'))\n",
    "\n",
    "cnf_matrix = confusion_matrix(y_test, y_pred)\n",
    "cnf_matrix"
   ]
  },
  {
   "cell_type": "code",
   "execution_count": 124,
   "metadata": {},
   "outputs": [
    {
     "name": "stdout",
     "output_type": "stream",
     "text": [
      "GB score:  0.9947415780889713\n",
      "F1 score:  0.6041662314044836\n"
     ]
    },
    {
     "data": {
      "text/plain": [
       "array([[35350,   120],\n",
       "       [   67,    25]], dtype=int64)"
      ]
     },
     "execution_count": 124,
     "metadata": {},
     "output_type": "execute_result"
    }
   ],
   "source": [
    "## gradient boosting classifiers\n",
    "\n",
    "gb = GradientBoostingClassifier(n_estimators=20, learning_rate = 0.50, max_features=2, max_depth = 5, random_state = 0)\n",
    "gb_model = gb.fit(X_train, y_train)\n",
    "y_pred = gb.predict(X_test)\n",
    "\n",
    "\n",
    "print(\"GB score: \",gb.score(X_test, y_test))\n",
    "\n",
    "print(\"F1 score: \",f1_score(y_test, predictions, average='macro'))\n",
    "\n",
    "cnf_matrix = confusion_matrix(y_test, y_pred)\n",
    "cnf_matrix"
   ]
  },
  {
   "cell_type": "code",
   "execution_count": null,
   "metadata": {},
   "outputs": [],
   "source": []
  }
 ],
 "metadata": {
  "kernelspec": {
   "display_name": "Python TF",
   "language": "python",
   "name": "tensorflow"
  },
  "language_info": {
   "codemirror_mode": {
    "name": "ipython",
    "version": 3
   },
   "file_extension": ".py",
   "mimetype": "text/x-python",
   "name": "python",
   "nbconvert_exporter": "python",
   "pygments_lexer": "ipython3",
   "version": "3.6.8"
  }
 },
 "nbformat": 4,
 "nbformat_minor": 2
}
